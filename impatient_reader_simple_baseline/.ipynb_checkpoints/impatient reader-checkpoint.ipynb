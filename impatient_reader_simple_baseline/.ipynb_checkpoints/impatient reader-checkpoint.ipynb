{
 "cells": [
  {
   "cell_type": "code",
   "execution_count": 1,
   "metadata": {},
   "outputs": [],
   "source": [
    "import gensim\n",
    "import os\n",
    "import collections\n",
    "import smart_open\n",
    "import random\n",
    "import json\n",
    "from gensim.test.utils import get_tmpfile"
   ]
  },
  {
   "cell_type": "code",
   "execution_count": 4,
   "metadata": {},
   "outputs": [],
   "source": [
    "fname = get_tmpfile(\"/Users/LYB/Desktop/coursework/Msc-project/vision_and_nlp/dataset/recipeQA/recipe_simple/impatient_reader/my_doc2vec_model\")\n",
    "model = gensim.models.doc2vec.Doc2Vec.load(fname) "
   ]
  },
  {
   "cell_type": "code",
   "execution_count": 3,
   "metadata": {},
   "outputs": [
    {
     "ename": "NameError",
     "evalue": "name 'model' is not defined",
     "output_type": "error",
     "traceback": [
      "\u001b[0;31m---------------------------------------------------------------------------\u001b[0m",
      "\u001b[0;31mNameError\u001b[0m                                 Traceback (most recent call last)",
      "\u001b[0;32m<ipython-input-3-88ed958177e8>\u001b[0m in \u001b[0;36m<module>\u001b[0;34m\u001b[0m\n\u001b[0;32m----> 1\u001b[0;31m \u001b[0mmodel\u001b[0m\u001b[0;34m.\u001b[0m\u001b[0minfer_vector\u001b[0m\u001b[0;34m(\u001b[0m\u001b[0;34m[\u001b[0m\u001b[0;34m]\u001b[0m\u001b[0;34m)\u001b[0m\u001b[0;34m\u001b[0m\u001b[0;34m\u001b[0m\u001b[0m\n\u001b[0m",
      "\u001b[0;31mNameError\u001b[0m: name 'model' is not defined"
     ]
    }
   ],
   "source": [
    "model.infer_vector([])"
   ]
  },
  {
   "cell_type": "code",
   "execution_count": 5,
   "metadata": {},
   "outputs": [],
   "source": [
    "def load_cleaned_data(file = 'train_cleaned.json'):\n",
    "    file = open(file, 'r', encoding='utf8').read()\n",
    "    recipe = json.loads(file) #json file contains data in str, convert str to dict\n",
    "    recipe_context = recipe['context']\n",
    "    recipe_answer = recipe['answer']\n",
    "    recipe_choice = recipe['choice']\n",
    "    recipe_question = recipe['question']\n",
    "    recipe_images = recipe['images']\n",
    "    return recipe_context, recipe_images, recipe_question, recipe_choice, recipe_answer \n",
    "recipe_context, recipe_images, recipe_question, recipe_choice, recipe_answer = load_cleaned_data('train_cleaned.json')\n",
    "recipe_context_valid, recipe_images_valid, recipe_question_valid, recipe_choice_valid, recipe_answer_valid = load_cleaned_data('val_cleaned.json')"
   ]
  },
  {
   "cell_type": "code",
   "execution_count": 6,
   "metadata": {},
   "outputs": [
    {
     "data": {
      "text/plain": [
       "[['3 until 5 whole vanilla beans250 gram of vegetable glycerin food gradeEvery 100 gram of vanilla beans have 35 until 40 of whole vanilla beans',\n",
       "  'Scrape Vanilla Beans and get the seeds into vegetable glycerin',\n",
       "  'Vanilla Beans Seed and Vegetable Glycerin',\n",
       "  'Whole Vanilla Beans put in a bottle with seeds and vegetable glycerin'],\n",
       " ['There are many variants of Borscht this is possibly one of the quickest and easy versions for it you will need:\\nIngredients:\\n4 cups of chilled sliced beets (two 16oz cans)\\n1 1/2 cups of beet juice. (conveniently that is about the amount of juice that will be in the \\xa0 \\xa0 \\xa0 \\xa0 \\xa0 \\xa0 \\xa0 \\xa0 \\xa0 \\xa0 \\xa0 canned beets)\\n2 Tbsp lemon juice\\n2 Tbsp of sugar\\nsalt and pepper to taste\\nsour cream\\nTools:\\nBlender\\xa0\\nTbsp\\nGlass measuring cup (to prevent staining)\\nNice serving bowls\\xa0\\nCan \\xa0opener',\n",
       "  'Open and drain off the beets saveing the juice.',\n",
       "  'Place the drained beet in the blender along with\\xa0lemon juice and sugar.',\n",
       "  'Add the beet juice.',\n",
       "  'Cover blender and blend until smooth. Oh and do not open the blender while it is going to check consistence. There is nothing beets would like better than to escape and change the color of your cabinets.',\n",
       "  'Place in bowls and garnish with a dollop of sour cream. Serve with salt and pepper to taste.',\n",
       "  'Borscht is nicely complemented with fresh dill or green onions. At a little restaurant i use to go to it was served with a warm boiled potato.\\nTo chill the soup I cheated buy refrigerating the beet in the can before opening .\\nAlso I heard that you can skip putting in the lemon juice and let the soup set in your refrigerator for two or three days. This allows it to sourer on its own. I have not tried this myself so if you have let me know how that works.\\xa0']]"
      ]
     },
     "execution_count": 6,
     "metadata": {},
     "output_type": "execute_result"
    }
   ],
   "source": [
    "recipe_context_train = [[gensim.utils.simple_preprocess]]"
   ]
  },
  {
   "cell_type": "code",
   "execution_count": null,
   "metadata": {},
   "outputs": [],
   "source": []
  },
  {
   "cell_type": "code",
   "execution_count": null,
   "metadata": {},
   "outputs": [],
   "source": []
  },
  {
   "cell_type": "code",
   "execution_count": null,
   "metadata": {},
   "outputs": [],
   "source": []
  },
  {
   "cell_type": "code",
   "execution_count": null,
   "metadata": {},
   "outputs": [],
   "source": []
  },
  {
   "cell_type": "code",
   "execution_count": null,
   "metadata": {},
   "outputs": [],
   "source": []
  }
 ],
 "metadata": {
  "kernelspec": {
   "display_name": "Python 3",
   "language": "python",
   "name": "python3"
  },
  "language_info": {
   "codemirror_mode": {
    "name": "ipython",
    "version": 3
   },
   "file_extension": ".py",
   "mimetype": "text/x-python",
   "name": "python",
   "nbconvert_exporter": "python",
   "pygments_lexer": "ipython3",
   "version": "3.6.8"
  }
 },
 "nbformat": 4,
 "nbformat_minor": 2
}
