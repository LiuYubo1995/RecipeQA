{
 "cells": [
  {
   "cell_type": "code",
   "execution_count": 1,
   "metadata": {},
   "outputs": [],
   "source": [
    "import gensim\n",
    "import os\n",
    "import collections\n",
    "import smart_open\n",
    "import random\n",
    "import json"
   ]
  },
  {
   "cell_type": "code",
   "execution_count": 2,
   "metadata": {},
   "outputs": [],
   "source": [
    "test_data_dir = '{}'.format(os.sep).join([gensim.__path__[0], 'test', 'test_data'])\n",
    "lee_train_file = test_data_dir + os.sep + 'lee_background.cor'\n",
    "lee_test_file = test_data_dir + os.sep + 'lee.cor'"
   ]
  },
  {
   "cell_type": "code",
   "execution_count": 3,
   "metadata": {},
   "outputs": [],
   "source": [
    "def read_corpus(, tokens_only=False):\n",
    "        for i, line in enumerate(f):\n",
    "            if tokens_only:\n",
    "                yield gensim.utils.simple_preprocess(line)\n",
    "            else:\n",
    "                # For training data, add tags\n",
    "                yield gensim.models.doc2vec.TaggedDocument(gensim.utils.simple_preprocess(line), [i])"
   ]
  },
  {
   "cell_type": "code",
   "execution_count": 9,
   "metadata": {},
   "outputs": [],
   "source": [
    "def load_cleaned_data(file = 'train_cleaned.json'):\n",
    "    file = open(file, 'r', encoding='utf8').read()\n",
    "    recipe = json.loads(file) #json file contains data in str, convert str to dict\n",
    "    recipe_context = recipe['context']\n",
    "    recipe_answer = recipe['answer']\n",
    "    recipe_choice = recipe['choice']\n",
    "    recipe_question = recipe['question']\n",
    "    recipe_images = recipe['images']\n",
    "    return recipe_context, recipe_images, recipe_question, recipe_choice, recipe_answer \n"
   ]
  },
  {
   "cell_type": "code",
   "execution_count": 178,
   "metadata": {},
   "outputs": [],
   "source": [
    "recipe_context, recipe_images, recipe_question, recipe_choice, recipe_answer = load_cleaned_data('train_cleaned.json')\n",
    "recipe_context_valid, recipe_images_valid, recipe_question_valid, recipe_choice_valid, recipe_answer_valid = load_cleaned_data('val_cleaned.json')"
   ]
  },
  {
   "cell_type": "code",
   "execution_count": 90,
   "metadata": {},
   "outputs": [],
   "source": [
    "new_train = []\n",
    "for i in recipe_context:\n",
    "    new_train.append(' '.join(i))\n",
    "for i in recipe_question:\n",
    "    for j in i:\n",
    "        new_train.append(j)\n",
    "for i in recipe_choice:\n",
    "    for j in i:\n",
    "        new_train.append(j)\n",
    "for i in recipe_context:\n",
    "    new_train.append(' '.join(i))\n",
    "for i in recipe_question:\n",
    "    for j in i:\n",
    "        new_train.append(j)\n",
    "for i in recipe_choice:\n",
    "    for j in i:\n",
    "        new_train.append(j)"
   ]
  },
  {
   "cell_type": "code",
   "execution_count": 67,
   "metadata": {},
   "outputs": [],
   "source": [
    "new_val = []\n",
    "for i in recipe_context_valid:\n",
    "    new_val.append(' '.join(i))\n",
    "for i in recipe_question_valid:\n",
    "    for j in i:\n",
    "        new_val.append(j)\n",
    "for i in recipe_choice_valid:\n",
    "    for j in i:\n",
    "        new_val.append(j)"
   ]
  },
  {
   "cell_type": "code",
   "execution_count": 91,
   "metadata": {},
   "outputs": [],
   "source": [
    "def read_corpus(data_list, tokens_only=False):\n",
    "        for i, line in enumerate(data_list):\n",
    "            if tokens_only:\n",
    "                yield gensim.utils.simple_preprocess(line)\n",
    "            else:\n",
    "                # For training data, add tags     \n",
    "                yield gensim.models.doc2vec.TaggedDocument(gensim.utils.simple_preprocess(line), [i])"
   ]
  },
  {
   "cell_type": "code",
   "execution_count": 92,
   "metadata": {},
   "outputs": [],
   "source": [
    "train_corpus = list(read_corpus(new_train))\n",
    "test_corpus = list(read_corpus(new_val, tokens_only=True)) "
   ]
  },
  {
   "cell_type": "code",
   "execution_count": 93,
   "metadata": {},
   "outputs": [],
   "source": [
    "model = gensim.models.doc2vec.Doc2Vec(vector_size=100, min_count=2, epochs=100)"
   ]
  },
  {
   "cell_type": "code",
   "execution_count": 94,
   "metadata": {},
   "outputs": [],
   "source": [
    "model.build_vocab(train_corpus)"
   ]
  },
  {
   "cell_type": "code",
   "execution_count": 95,
   "metadata": {},
   "outputs": [
    {
     "data": {
      "text/plain": [
       "37470"
      ]
     },
     "execution_count": 95,
     "metadata": {},
     "output_type": "execute_result"
    }
   ],
   "source": [
    "len(model.wv.vocab)"
   ]
  },
  {
   "cell_type": "code",
   "execution_count": 96,
   "metadata": {},
   "outputs": [
    {
     "name": "stdout",
     "output_type": "stream",
     "text": [
      "CPU times: user 19min 21s, sys: 2min 8s, total: 21min 30s\n",
      "Wall time: 10min 2s\n"
     ]
    }
   ],
   "source": [
    "%time model.train(train_corpus, total_examples=model.corpus_count, epochs=model.epochs)"
   ]
  },
  {
   "cell_type": "code",
   "execution_count": 102,
   "metadata": {},
   "outputs": [],
   "source": [
    "from gensim.test.utils import get_tmpfile\n",
    "fname = get_tmpfile(\"/Users/LYB/Desktop/coursework/Msc-project/vision_and_nlp/dataset/recipeQA/recipe_simple/my_doc2vec_model\")\n",
    "\n",
    "model.save(fname)\n",
    "model = gensim.models.doc2vec.Doc2Vec.load(fname) "
   ]
  },
  {
   "cell_type": "code",
   "execution_count": 103,
   "metadata": {},
   "outputs": [],
   "source": [
    "model = gensim.models.doc2vec.Doc2Vec.load(fname)  # you can continue training with the loaded model!"
   ]
  },
  {
   "cell_type": "code",
   "execution_count": 107,
   "metadata": {},
   "outputs": [],
   "source": [
    "vector = model.infer_vector(test_corpus[0])"
   ]
  },
  {
   "cell_type": "code",
   "execution_count": 129,
   "metadata": {},
   "outputs": [
    {
     "data": {
      "text/plain": [
       "array([ 1.2300048 ,  1.6215833 ,  0.638685  ,  1.0969445 , -0.62171835,\n",
       "        0.16322325, -0.45463932,  0.9149868 ,  0.69801736,  0.9367345 ,\n",
       "       -0.48066255,  0.14855294, -0.15651824, -0.5687819 , -1.388501  ,\n",
       "        1.1191026 , -0.6360313 , -0.69027376,  0.6045653 , -0.7519053 ,\n",
       "       -0.5616907 ,  0.60697633, -0.53108853, -0.08363882,  1.234385  ,\n",
       "       -2.091638  ,  0.42184892, -0.2632655 ,  0.21245074, -0.85904264,\n",
       "       -1.2422076 ,  0.50746375,  0.41389415,  0.50691706,  0.03576031,\n",
       "        0.7482537 ,  1.3835976 ,  0.09990457, -0.8195722 , -0.22511913,\n",
       "       -0.34260425,  0.03403731, -0.36628637, -0.3406424 ,  0.12156751,\n",
       "        0.19823946, -1.4610406 , -0.15149759,  1.2410034 ,  0.24531619,\n",
       "       -1.1737919 , -0.71823585, -0.22198246, -0.1806471 ,  0.3625449 ,\n",
       "        1.5223098 , -0.581034  , -0.63489074,  1.4656823 , -0.06618487,\n",
       "        0.5818336 , -0.21853174, -0.60504645, -0.73965967,  0.6480613 ,\n",
       "        0.35428098,  0.1753934 , -0.60344315, -0.77266175,  0.5804754 ,\n",
       "       -0.53876877,  0.6261357 ,  0.8231351 , -0.11498229, -0.04733786,\n",
       "       -0.23343427, -0.55297333,  0.43556818,  0.2738517 ,  0.19925137,\n",
       "        0.5580883 , -0.25405023, -0.3608704 ,  0.6714043 , -0.6362514 ,\n",
       "       -0.30420104, -1.9596728 , -0.01794547, -0.9352193 , -0.7117663 ,\n",
       "       -0.5649832 ,  0.8121384 ,  1.2949601 ,  0.5950455 ,  0.1736971 ,\n",
       "       -2.0054529 , -0.46342406,  0.31023636, -0.1654683 , -0.03723484],\n",
       "      dtype=float32)"
      ]
     },
     "execution_count": 129,
     "metadata": {},
     "output_type": "execute_result"
    }
   ],
   "source": [
    "vector"
   ]
  },
  {
   "cell_type": "code",
   "execution_count": 444,
   "metadata": {},
   "outputs": [],
   "source": [
    "question = []\n",
    "for i in recipe_question_valid:\n",
    "    question.append(gensim.utils.simple_preprocess(' '.join(i)))\n"
   ]
  },
  {
   "cell_type": "code",
   "execution_count": 445,
   "metadata": {},
   "outputs": [],
   "source": [
    "for i in range(len(question)):\n",
    "    question[i] = model.infer_vector(question[i])"
   ]
  },
  {
   "cell_type": "code",
   "execution_count": 446,
   "metadata": {},
   "outputs": [],
   "source": [
    "for i in range(len(recipe_choice_valid)):\n",
    "    for j in range(len(recipe_choice_valid[i])): \n",
    "        recipe_choice_valid[i][j] = gensim.utils.simple_preprocess(recipe_choice_valid[i][j]) "
   ]
  },
  {
   "cell_type": "code",
   "execution_count": 447,
   "metadata": {},
   "outputs": [],
   "source": [
    "for i in range(len(recipe_choice_valid)):\n",
    "    for j in range(len(recipe_choice_valid[i])):\n",
    "        recipe_choice_valid[i][j] = model.infer_vector(recipe_choice_valid[i][j]) "
   ]
  },
  {
   "cell_type": "code",
   "execution_count": 448,
   "metadata": {},
   "outputs": [],
   "source": [
    "import torch\n",
    "question = torch.FloatTensor(question)"
   ]
  },
  {
   "cell_type": "code",
   "execution_count": 449,
   "metadata": {},
   "outputs": [],
   "source": [
    "choice = torch.FloatTensor(recipe_choice_valid)"
   ]
  },
  {
   "cell_type": "code",
   "execution_count": 450,
   "metadata": {},
   "outputs": [],
   "source": [
    "answer = []\n",
    "for i in range(len(question)):\n",
    "    answer.append(torch.matmul(choice[i], question[0]).numpy())\n"
   ]
  },
  {
   "cell_type": "code",
   "execution_count": 451,
   "metadata": {},
   "outputs": [],
   "source": [
    "import torch.nn.functional as F\n",
    "def accuracy(preds, y):\n",
    "    preds = F.softmax(preds, dim=1)\n",
    "    correct = 0 \n",
    "    pred = preds.max(1, keepdim=True)[1]\n",
    "    correct += pred.eq(y.view_as(pred)).sum().item()\n",
    "    acc = correct/len(y)\n",
    "    return acc "
   ]
  },
  {
   "cell_type": "code",
   "execution_count": 452,
   "metadata": {},
   "outputs": [],
   "source": [
    "answer = torch.FloatTensor(answer) "
   ]
  },
  {
   "cell_type": "code",
   "execution_count": 453,
   "metadata": {},
   "outputs": [],
   "source": [
    "answer_valid = torch.LongTensor(recipe_answer_valid)"
   ]
  },
  {
   "cell_type": "markdown",
   "metadata": {},
   "source": [
    "26.11"
   ]
  },
  {
   "cell_type": "markdown",
   "metadata": {},
   "source": [
    "0.2643080124869927"
   ]
  },
  {
   "cell_type": "code",
   "execution_count": 455,
   "metadata": {
    "scrolled": true
   },
   "outputs": [
    {
     "data": {
      "text/plain": [
       "0.26222684703433924"
      ]
     },
     "execution_count": 455,
     "metadata": {},
     "output_type": "execute_result"
    }
   ],
   "source": [
    "accuracy(answer, answer_valid)"
   ]
  },
  {
   "cell_type": "code",
   "execution_count": null,
   "metadata": {},
   "outputs": [],
   "source": []
  },
  {
   "cell_type": "code",
   "execution_count": 457,
   "metadata": {},
   "outputs": [],
   "source": [
    "import torch.nn as nn\n",
    "triplet_loss = nn.TripletMarginLoss(margin=1.0, p=2)\n",
    "input1 = torch.randn(100, 128, requires_grad=True)\n",
    "input2 = torch.randn(100, 128, requires_grad=True)\n",
    "input3 = torch.randn(100, 128, requires_grad=True)\n",
    "output = triplet_loss(input1, input2, input3)\n",
    "output.backward()"
   ]
  },
  {
   "cell_type": "markdown",
   "metadata": {},
   "source": [
    "  input1 question q    input2 positive input3 negative (N,D)"
   ]
  },
  {
   "cell_type": "code",
   "execution_count": 2,
   "metadata": {},
   "outputs": [],
   "source": [
    "import gensim\n",
    "import os\n",
    "import collections\n",
    "import smart_open\n",
    "import random\n",
    "import json\n",
    "import torch\n",
    "import torch.nn.functional as F\n",
    "from gensim.test.utils import get_tmpfile\n",
    "import numpy as np\n",
    "\n",
    "def load_cleaned_data(file = 'train_cleaned.json'):\n",
    "    file = open(file, 'r', encoding='utf8').read()\n",
    "    recipe = json.loads(file) #json file contains data in str, convert str to dict\n",
    "    recipe_context = recipe['context']\n",
    "    recipe_answer = recipe['answer']\n",
    "    recipe_choice = recipe['choice']\n",
    "    recipe_question = recipe['question']\n",
    "    recipe_images = recipe['images']\n",
    "    return recipe_context, recipe_images, recipe_question, recipe_choice, recipe_answer \n",
    "def accuracy(preds, y):\n",
    "    preds = F.softmax(preds, dim=1)\n",
    "    correct = 0 \n",
    "    pred = preds.max(1, keepdim=True)[1]\n",
    "    correct += pred.eq(y.view_as(pred)).sum().item()\n",
    "    acc = correct/len(y)\n",
    "    return acc \n",
    "def seed_everything(seed=123):\n",
    "    random.seed(seed)\n",
    "    os.environ['PYTHONHASHSEED'] = str(seed)\n",
    "    np.random.seed(seed)\n",
    "    torch.manual_seed(seed)\n",
    "    torch.cuda.manual_seed(seed)\n",
    "    torch.backends.cudnn.deterministic = True\n",
    "seed_everything()\n",
    "\n",
    "recipe_context, recipe_images, recipe_question, recipe_choice, recipe_answer = load_cleaned_data('train_cleaned.json')\n",
    "recipe_context_valid, recipe_images_valid, recipe_question_valid, recipe_choice_valid, recipe_answer_valid = load_cleaned_data('val_cleaned.json')\n",
    "fname = get_tmpfile(\"/Users/LYB/Desktop/coursework/Msc-project/recipe_baseline/hasty_simple_baseline/my_doc2vec_model\")\n",
    "model = gensim.models.doc2vec.Doc2Vec.load(fname) \n",
    "question = []"
   ]
  },
  {
   "cell_type": "code",
   "execution_count": 3,
   "metadata": {},
   "outputs": [
    {
     "data": {
      "text/plain": [
       "[['@placeholder',\n",
       "  'Cupcakes (buns)',\n",
       "  'Carmel (mustard) and Strawberry Glaze (ketchup)',\n",
       "  'Finished Project'],\n",
       " ['The Bacon', 'The Pancake', 'Jelly (Optional)', '@placeholder'],\n",
       " ['Layer and Bake the Dough',\n",
       "  'Make Incense',\n",
       "  '@placeholder',\n",
       "  'Sculpt Dragon Wings'],\n",
       " ['Ingredients!', 'Make the Base', 'Assemble the Dish', '@placeholder'],\n",
       " ['Bake Your Cookies',\n",
       "  'Bake Your Cupcakes and Prepare Them for Groot.',\n",
       "  'Groot Assemble!!',\n",
       "  '@placeholder'],\n",
       " ['Ingredients', 'Preparation', 'Baking', '@placeholder'],\n",
       " ['Remove the Beans',\n",
       "  '@placeholder',\n",
       "  'Gently Pop Up',\n",
       "  'Replacing the Controls'],\n",
       " ['Start Cooking',\n",
       "  'Start Noodles and Sauce',\n",
       "  '@placeholder',\n",
       "  'Enjoy Your Delicious Meal!'],\n",
       " ['Chutney Time !',\n",
       "  '@placeholder',\n",
       "  'Grill / Smoke or Bake',\n",
       "  'Toast Buns, Assemble, Enjoy'],\n",
       " ['Fry Onions.', 'Peaches.', '@placeholder', 'Fix the Slaw/']]"
      ]
     },
     "execution_count": 3,
     "metadata": {},
     "output_type": "execute_result"
    }
   ],
   "source": [
    "recipe_question_valid[:10]"
   ]
  },
  {
   "cell_type": "code",
   "execution_count": null,
   "metadata": {},
   "outputs": [],
   "source": [
    "for i in recipe_question_valid:\n",
    "    question.append(gensim.utils.simple_preprocess(' '.join(i)))\n",
    "for i in range(len(question)):\n",
    "    question[i] = model.infer_vector(question[i])\n",
    "for i in range(len(recipe_choice_valid)):\n",
    "    for j in range(len(recipe_choice_valid[i])):\n",
    "        recipe_choice_valid[i][j] = model.infer_vector(gensim.utils.simple_preprocess(recipe_choice_valid[i][j])) \n",
    "question = torch.FloatTensor(question)\n",
    "choice = torch.FloatTensor(recipe_choice_valid)\n",
    "answer = [] \n",
    "def exponent_neg_manhattan_distance(x1, x2):\n",
    "        return torch.sum(torch.abs(x1 - x2), dim=1)\n",
    "def cosine_dot_distance(x1, x2):\n",
    "        return torch.sum(torch.mul(x1, x2), dim=1)\n",
    "def Infersent(x1, x2):\n",
    "        return torch.cat((x1, x2, torch.abs(x1 - x2), x1 * x2), 1)\n",
    "\n",
    "for i in range(len(question)):\n",
    "    answer.append(torch.matmul(choice[i], question[0]).numpy())\n",
    "answer = torch.FloatTensor(answer) \n",
    "answer_valid = torch.LongTensor(recipe_answer_valid)\n",
    "acc_val = accuracy(answer, answer_valid)\n",
    "print('validation accuracy', acc_val) "
   ]
  },
  {
   "cell_type": "code",
   "execution_count": null,
   "metadata": {},
   "outputs": [],
   "source": []
  },
  {
   "cell_type": "code",
   "execution_count": null,
   "metadata": {},
   "outputs": [],
   "source": []
  },
  {
   "cell_type": "code",
   "execution_count": null,
   "metadata": {},
   "outputs": [],
   "source": []
  },
  {
   "cell_type": "code",
   "execution_count": null,
   "metadata": {},
   "outputs": [],
   "source": []
  },
  {
   "cell_type": "code",
   "execution_count": null,
   "metadata": {},
   "outputs": [],
   "source": []
  },
  {
   "cell_type": "code",
   "execution_count": null,
   "metadata": {},
   "outputs": [],
   "source": []
  },
  {
   "cell_type": "code",
   "execution_count": null,
   "metadata": {},
   "outputs": [],
   "source": []
  },
  {
   "cell_type": "code",
   "execution_count": null,
   "metadata": {},
   "outputs": [],
   "source": []
  }
 ],
 "metadata": {
  "kernelspec": {
   "display_name": "Python 3",
   "language": "python",
   "name": "python3"
  },
  "language_info": {
   "codemirror_mode": {
    "name": "ipython",
    "version": 3
   },
   "file_extension": ".py",
   "mimetype": "text/x-python",
   "name": "python",
   "nbconvert_exporter": "python",
   "pygments_lexer": "ipython3",
   "version": "3.6.8"
  }
 },
 "nbformat": 4,
 "nbformat_minor": 2
}
