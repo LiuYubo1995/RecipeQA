{
 "cells": [
  {
   "cell_type": "code",
   "execution_count": 35,
   "metadata": {},
   "outputs": [],
   "source": [
    "images['empty'] = [[0 for i in range(1000)]]"
   ]
  },
  {
   "cell_type": "code",
   "execution_count": 36,
   "metadata": {},
   "outputs": [],
   "source": [
    "with open('training_features.json', 'w', encoding='utf8') as f:\n",
    "        json.dump(images, f, indent=4, ensure_ascii=False)"
   ]
  },
  {
   "cell_type": "code",
   "execution_count": 2,
   "metadata": {},
   "outputs": [],
   "source": [
    "import json\n",
    "from_file = open('train_cleaned.json', 'r', encoding='utf8').read()\n",
    "recipe = json.loads(from_file) "
   ]
  },
  {
   "cell_type": "code",
   "execution_count": 3,
   "metadata": {},
   "outputs": [],
   "source": [
    "import json\n",
    "from_file = open('training_features.json', 'r', encoding='utf8').read()\n",
    "images = json.loads(from_file)"
   ]
  },
  {
   "cell_type": "code",
   "execution_count": 5,
   "metadata": {},
   "outputs": [],
   "source": [
    "def load_cleaned_data(file = 'train_cleaned.json'):\n",
    "    file = open(file, 'r', encoding='utf8').read()\n",
    "    recipe = json.loads(file) #json file contains data in str, convert str to dict\n",
    "    recipe_context = recipe['context']\n",
    "    recipe_answer = recipe['answer']\n",
    "    recipe_choice = recipe['choice']\n",
    "    recipe_question = recipe['question']\n",
    "    recipe_images = recipe['images']\n",
    "    return recipe_context, recipe_images, recipe_question, recipe_choice, recipe_answer "
   ]
  },
  {
   "cell_type": "code",
   "execution_count": 6,
   "metadata": {},
   "outputs": [],
   "source": [
    "recipe_context, recipe_images, recipe_question, recipe_choice, recipe_answer = load_cleaned_data('train_cleaned.json')"
   ]
  },
  {
   "cell_type": "code",
   "execution_count": 8,
   "metadata": {},
   "outputs": [],
   "source": [
    "train_images = []\n",
    "batch_size = 5 \n",
    "for i in range(0, len(recipe_context), batch_size):\n",
    "        train_images.append(recipe_images[i : i + batch_size]) "
   ]
  },
  {
   "cell_type": "code",
   "execution_count": 30,
   "metadata": {},
   "outputs": [],
   "source": [
    "def transport_1_0_2(a):\n",
    "        max_step = 0\n",
    "        for i in a:\n",
    "            if max_step < len(i):\n",
    "                max_step = len(i)\n",
    "        new = []\n",
    "        for i in range(max_step):\n",
    "            step = []\n",
    "            for j in a:\n",
    "                if len(j) <= i:\n",
    "                    step.append(['empty'])\n",
    "                else:\n",
    "                    step.append(j[i])      \n",
    "            new.append(step)\n",
    "        return new"
   ]
  },
  {
   "cell_type": "code",
   "execution_count": 31,
   "metadata": {},
   "outputs": [],
   "source": [
    "x = train_images[0]\n",
    "x = transport_1_0_2(x)"
   ]
  },
  {
   "cell_type": "code",
   "execution_count": 32,
   "metadata": {},
   "outputs": [
    {
     "data": {
      "text/plain": [
       "[[['how-to-make-halal-vanilla-extract_1_0.jpg'],\n",
       "  ['how-to-make-cold-borscht_1_0.jpg'],\n",
       "  [],\n",
       "  ['purple-gnocchi-with-gorgonzola_1_0.jpg',\n",
       "   'purple-gnocchi-with-gorgonzola_1_1.jpg',\n",
       "   'purple-gnocchi-with-gorgonzola_1_2.jpg'],\n",
       "  ['cabbage-burger_1_0.jpg']],\n",
       " [['how-to-make-halal-vanilla-extract_2_0.jpg'],\n",
       "  ['how-to-make-cold-borscht_2_0.jpg',\n",
       "   'how-to-make-cold-borscht_2_1.jpg',\n",
       "   'how-to-make-cold-borscht_2_2.jpg'],\n",
       "  ['easy-handmade-pumpkin-puree_2_0.jpg',\n",
       "   'easy-handmade-pumpkin-puree_2_1.jpg'],\n",
       "  ['purple-gnocchi-with-gorgonzola_2_0.jpg'],\n",
       "  ['cabbage-burger_2_0.jpg']],\n",
       " [['how-to-make-halal-vanilla-extract_3_0.jpg'],\n",
       "  ['how-to-make-cold-borscht_3_0.jpg', 'how-to-make-cold-borscht_3_1.jpg'],\n",
       "  ['easy-handmade-pumpkin-puree_3_0.jpg',\n",
       "   'easy-handmade-pumpkin-puree_3_1.jpg',\n",
       "   'easy-handmade-pumpkin-puree_3_2.jpg'],\n",
       "  ['purple-gnocchi-with-gorgonzola_3_0.jpg',\n",
       "   'purple-gnocchi-with-gorgonzola_3_1.jpg',\n",
       "   'purple-gnocchi-with-gorgonzola_3_2.jpg',\n",
       "   'purple-gnocchi-with-gorgonzola_3_3.jpg',\n",
       "   'purple-gnocchi-with-gorgonzola_3_4.jpg',\n",
       "   'purple-gnocchi-with-gorgonzola_3_5.jpg'],\n",
       "  ['cabbage-burger_3_0.jpg']],\n",
       " [['how-to-make-halal-vanilla-extract_4_0.jpg'],\n",
       "  ['how-to-make-cold-borscht_4_0.jpg'],\n",
       "  ['easy-handmade-pumpkin-puree_4_0.jpg',\n",
       "   'easy-handmade-pumpkin-puree_4_1.jpg',\n",
       "   'easy-handmade-pumpkin-puree_4_2.jpg',\n",
       "   'easy-handmade-pumpkin-puree_4_3.jpg',\n",
       "   'easy-handmade-pumpkin-puree_4_4.jpg'],\n",
       "  ['purple-gnocchi-with-gorgonzola_4_0.jpg',\n",
       "   'purple-gnocchi-with-gorgonzola_4_1.jpg',\n",
       "   'purple-gnocchi-with-gorgonzola_4_2.jpg'],\n",
       "  ['cabbage-burger_4_0.jpg', 'cabbage-burger_4_1.jpg']],\n",
       " [['empty'],\n",
       "  ['how-to-make-cold-borscht_5_0.jpg', 'how-to-make-cold-borscht_5_1.jpg'],\n",
       "  ['easy-handmade-pumpkin-puree_5_0.jpg',\n",
       "   'easy-handmade-pumpkin-puree_5_1.jpg',\n",
       "   'easy-handmade-pumpkin-puree_5_2.jpg',\n",
       "   'easy-handmade-pumpkin-puree_5_3.jpg'],\n",
       "  ['purple-gnocchi-with-gorgonzola_5_0.jpg'],\n",
       "  ['cabbage-burger_5_0.jpg']],\n",
       " [['empty'],\n",
       "  ['how-to-make-cold-borscht_6_0.jpg', 'how-to-make-cold-borscht_6_1.jpg'],\n",
       "  ['easy-handmade-pumpkin-puree_6_0.jpg',\n",
       "   'easy-handmade-pumpkin-puree_6_1.jpg'],\n",
       "  ['empty'],\n",
       "  ['cabbage-burger_6_0.jpg', 'cabbage-burger_6_1.jpg']],\n",
       " [['empty'],\n",
       "  ['how-to-make-cold-borscht_7_0.jpg'],\n",
       "  ['easy-handmade-pumpkin-puree_7_0.jpg',\n",
       "   'easy-handmade-pumpkin-puree_7_1.jpg',\n",
       "   'easy-handmade-pumpkin-puree_7_2.jpg'],\n",
       "  ['empty'],\n",
       "  ['cabbage-burger_7_0.jpg']],\n",
       " [['empty'],\n",
       "  ['empty'],\n",
       "  ['empty'],\n",
       "  ['empty'],\n",
       "  ['cabbage-burger_8_0.jpg',\n",
       "   'cabbage-burger_8_1.jpg',\n",
       "   'cabbage-burger_8_2.jpg']],\n",
       " [['empty'], ['empty'], ['empty'], ['empty'], ['cabbage-burger_9_0.jpg']]]"
      ]
     },
     "execution_count": 32,
     "metadata": {},
     "output_type": "execute_result"
    }
   ],
   "source": [
    "x"
   ]
  },
  {
   "cell_type": "code",
   "execution_count": null,
   "metadata": {},
   "outputs": [],
   "source": []
  },
  {
   "cell_type": "code",
   "execution_count": 26,
   "metadata": {
    "scrolled": true
   },
   "outputs": [
    {
     "name": "stdout",
     "output_type": "stream",
     "text": [
      "(1, 1, 1000)\n",
      "(1, 1, 1000)\n",
      "(1000,)\n",
      "(3, 1, 1000)\n",
      "(1, 1, 1000)\n",
      "(1, 1, 1000)\n",
      "(3, 1, 1000)\n",
      "(2, 1, 1000)\n",
      "(1, 1, 1000)\n",
      "(1, 1, 1000)\n",
      "(1, 1, 1000)\n",
      "(2, 1, 1000)\n",
      "(3, 1, 1000)\n",
      "(6, 1, 1000)\n",
      "(1, 1, 1000)\n",
      "(1, 1, 1000)\n",
      "(1, 1, 1000)\n",
      "(5, 1, 1000)\n",
      "(3, 1, 1000)\n",
      "(2, 1, 1000)\n",
      "(1, 1, 1, 1000)\n",
      "(2, 1, 1000)\n",
      "(4, 1, 1000)\n",
      "(1, 1, 1000)\n",
      "(1, 1, 1000)\n",
      "(1, 1, 1, 1000)\n",
      "(2, 1, 1000)\n",
      "(2, 1, 1000)\n",
      "(1, 1, 1, 1000)\n",
      "(2, 1, 1000)\n",
      "(1, 1, 1, 1000)\n",
      "(1, 1, 1000)\n",
      "(3, 1, 1000)\n",
      "(1, 1, 1, 1000)\n",
      "(1, 1, 1000)\n",
      "(1, 1, 1, 1000)\n",
      "(1, 1, 1, 1000)\n",
      "(1, 1, 1, 1000)\n",
      "(1, 1, 1, 1000)\n",
      "(3, 1, 1000)\n",
      "(1, 1, 1, 1000)\n",
      "(1, 1, 1, 1000)\n",
      "(1, 1, 1, 1000)\n",
      "(1, 1, 1, 1000)\n",
      "(1, 1, 1000)\n"
     ]
    }
   ],
   "source": [
    "for i in x:\n",
    "    for j in i:\n",
    "        temp = []\n",
    "        if len(j) == 0:\n",
    "            temp = [0 for _ in range(1000)]\n",
    "        for z in j:\n",
    "            temp.append(images[z])\n",
    "        print(np.array(temp).shape)"
   ]
  },
  {
   "cell_type": "code",
   "execution_count": null,
   "metadata": {},
   "outputs": [],
   "source": [
    "for i in x:\n",
    "    temp = []\n",
    "    for j in i:\n",
    "        temp2 = []\n",
    "        for z in j:\n",
    "            temp2.append(recipe_images[z])"
   ]
  },
  {
   "cell_type": "code",
   "execution_count": 15,
   "metadata": {},
   "outputs": [
    {
     "ename": "TypeError",
     "evalue": "list indices must be integers or slices, not str",
     "output_type": "error",
     "traceback": [
      "\u001b[0;31m---------------------------------------------------------------------------\u001b[0m",
      "\u001b[0;31mTypeError\u001b[0m                                 Traceback (most recent call last)",
      "\u001b[0;32m<ipython-input-15-396b6da8f579>\u001b[0m in \u001b[0;36m<module>\u001b[0;34m\u001b[0m\n\u001b[1;32m      6\u001b[0m         \u001b[0mtemp2\u001b[0m \u001b[0;34m=\u001b[0m \u001b[0;34m[\u001b[0m\u001b[0;34m]\u001b[0m\u001b[0;34m\u001b[0m\u001b[0;34m\u001b[0m\u001b[0m\n\u001b[1;32m      7\u001b[0m         \u001b[0;32mfor\u001b[0m \u001b[0mz\u001b[0m \u001b[0;32min\u001b[0m \u001b[0mj\u001b[0m\u001b[0;34m:\u001b[0m\u001b[0;34m\u001b[0m\u001b[0;34m\u001b[0m\u001b[0m\n\u001b[0;32m----> 8\u001b[0;31m             \u001b[0mtemp2\u001b[0m\u001b[0;34m.\u001b[0m\u001b[0mappend\u001b[0m\u001b[0;34m(\u001b[0m\u001b[0mrecipe_images\u001b[0m\u001b[0;34m[\u001b[0m\u001b[0mz\u001b[0m\u001b[0;34m]\u001b[0m\u001b[0;34m)\u001b[0m\u001b[0;34m\u001b[0m\u001b[0;34m\u001b[0m\u001b[0m\n\u001b[0m\u001b[1;32m      9\u001b[0m         \u001b[0mtemp\u001b[0m\u001b[0;34m.\u001b[0m\u001b[0mappend\u001b[0m\u001b[0;34m(\u001b[0m\u001b[0mnp\u001b[0m\u001b[0;34m.\u001b[0m\u001b[0msum\u001b[0m\u001b[0;34m(\u001b[0m\u001b[0mtemp2\u001b[0m\u001b[0;34m,\u001b[0m \u001b[0maxis\u001b[0m \u001b[0;34m=\u001b[0m \u001b[0;36m0\u001b[0m\u001b[0;34m)\u001b[0m\u001b[0;34m)\u001b[0m\u001b[0;34m\u001b[0m\u001b[0;34m\u001b[0m\u001b[0m\n\u001b[1;32m     10\u001b[0m     \u001b[0mbatch\u001b[0m\u001b[0;34m.\u001b[0m\u001b[0mappend\u001b[0m\u001b[0;34m(\u001b[0m\u001b[0mtemp\u001b[0m\u001b[0;34m)\u001b[0m\u001b[0;34m\u001b[0m\u001b[0;34m\u001b[0m\u001b[0m\n",
      "\u001b[0;31mTypeError\u001b[0m: list indices must be integers or slices, not str"
     ]
    }
   ],
   "source": [
    "import numpy as np\n",
    "batch = []\n",
    "for i in x:\n",
    "    temp = []\n",
    "    for j in i:\n",
    "        temp2 = []\n",
    "        for z in j:\n",
    "            temp2.append(recipe_images[z])\n",
    "        temp.append(np.sum(temp2, axis = 0))\n",
    "    batch.append(temp)       "
   ]
  },
  {
   "cell_type": "code",
   "execution_count": null,
   "metadata": {},
   "outputs": [],
   "source": []
  }
 ],
 "metadata": {
  "kernelspec": {
   "display_name": "Python 3",
   "language": "python",
   "name": "python3"
  },
  "language_info": {
   "codemirror_mode": {
    "name": "ipython",
    "version": 3
   },
   "file_extension": ".py",
   "mimetype": "text/x-python",
   "name": "python",
   "nbconvert_exporter": "python",
   "pygments_lexer": "ipython3",
   "version": "3.6.8"
  }
 },
 "nbformat": 4,
 "nbformat_minor": 2
}
